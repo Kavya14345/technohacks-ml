{
 "cells": [
  {
   "cell_type": "markdown",
   "id": "f76bc204",
   "metadata": {},
   "source": [
    "***Technohacks-Machine Learning Project***\n",
    "\n",
    "Dataset-boks.csv(from Kaggle)"
   ]
  },
  {
   "cell_type": "markdown",
   "id": "89bfa4b8",
   "metadata": {},
   "source": [
    "**Task-1:Preprocessing**\n",
    "\n",
    "Problem Statement:\n",
    "Prepare a dataset for analysis by cleaning and preprocessing it.\n",
    "\n",
    "Steps to Complete:\n",
    "\n",
    "Download a dataset (e.g., from Kaggle).\n",
    "\n",
    "Load the dataset using Pandas.\n",
    "\n",
    "Handle missing values and normalize data as needed.\n",
    "\n",
    "Save the cleaned dataset to a new file.\n",
    "\n",
    "Tools/Datasets/Platforms:\n",
    "Python, Pandas, Jupyter Notebook"
   ]
  },
  {
   "cell_type": "markdown",
   "id": "f4cfc8a7",
   "metadata": {},
   "source": [
    "✅ Dataset Overview\n",
    "\n",
    "Rows: 1000\n",
    "\n",
    "Columns: title, price, stock, rating, category, book_url\n",
    "\n",
    "Issues:\n",
    "\n",
    "stock is a string (e.g., \"In stock (20 available)\")\n",
    "\n",
    "rating is a string (e.g., \"Three\", \"Four\")\n",
    "\n",
    "category is categorical\n",
    "\n",
    "book_url might not be needed\n",
    "\n"
   ]
  },
  {
   "cell_type": "markdown",
   "id": "5693257b",
   "metadata": {},
   "source": [
    "***Importing necessary libraries***"
   ]
  },
  {
   "cell_type": "code",
   "execution_count": 1,
   "id": "46d96e11",
   "metadata": {},
   "outputs": [],
   "source": [
    "import pandas as pd\n",
    "from sklearn.preprocessing import MinMaxScaler"
   ]
  },
  {
   "cell_type": "markdown",
   "id": "36edbe85",
   "metadata": {},
   "source": [
    "***Load The Dataset***"
   ]
  },
  {
   "cell_type": "code",
   "execution_count": 2,
   "id": "87869059",
   "metadata": {},
   "outputs": [],
   "source": [
    "df=pd.read_csv(\"C:/Users/KAVYA/Downloads/boks.csv\")"
   ]
  },
  {
   "cell_type": "markdown",
   "id": "0d9d7bd3",
   "metadata": {},
   "source": [
    "***Inspect the Dataset***"
   ]
  },
  {
   "cell_type": "markdown",
   "id": "8f613f27",
   "metadata": {},
   "source": [
    "Number of rows and columns in dataset"
   ]
  },
  {
   "cell_type": "code",
   "execution_count": 3,
   "id": "316a995a",
   "metadata": {},
   "outputs": [
    {
     "data": {
      "text/plain": [
       "(1000, 6)"
      ]
     },
     "execution_count": 3,
     "metadata": {},
     "output_type": "execute_result"
    }
   ],
   "source": [
    "df.shape"
   ]
  },
  {
   "cell_type": "markdown",
   "id": "3d12e61a",
   "metadata": {},
   "source": [
    "Names of the columns of the dataset"
   ]
  },
  {
   "cell_type": "code",
   "execution_count": 4,
   "id": "787e9c62",
   "metadata": {},
   "outputs": [
    {
     "data": {
      "text/plain": [
       "Index(['title', 'price', 'stock', 'rating', 'category', 'book_url'], dtype='object')"
      ]
     },
     "execution_count": 4,
     "metadata": {},
     "output_type": "execute_result"
    }
   ],
   "source": [
    "df.columns"
   ]
  },
  {
   "cell_type": "markdown",
   "id": "9b6d04dc",
   "metadata": {},
   "source": [
    "First 5 dataentries rows of the dataset"
   ]
  },
  {
   "cell_type": "code",
   "execution_count": 5,
   "id": "5503da4c",
   "metadata": {},
   "outputs": [
    {
     "data": {
      "text/html": [
       "<div>\n",
       "<style scoped>\n",
       "    .dataframe tbody tr th:only-of-type {\n",
       "        vertical-align: middle;\n",
       "    }\n",
       "\n",
       "    .dataframe tbody tr th {\n",
       "        vertical-align: top;\n",
       "    }\n",
       "\n",
       "    .dataframe thead th {\n",
       "        text-align: right;\n",
       "    }\n",
       "</style>\n",
       "<table border=\"1\" class=\"dataframe\">\n",
       "  <thead>\n",
       "    <tr style=\"text-align: right;\">\n",
       "      <th></th>\n",
       "      <th>title</th>\n",
       "      <th>price</th>\n",
       "      <th>stock</th>\n",
       "      <th>rating</th>\n",
       "      <th>category</th>\n",
       "      <th>book_url</th>\n",
       "    </tr>\n",
       "  </thead>\n",
       "  <tbody>\n",
       "    <tr>\n",
       "      <th>0</th>\n",
       "      <td>A Light in the Attic</td>\n",
       "      <td>51.77</td>\n",
       "      <td>In stock</td>\n",
       "      <td>Three</td>\n",
       "      <td>Poetry</td>\n",
       "      <td>http://books.toscrape.com/catalogue/a-light-in...</td>\n",
       "    </tr>\n",
       "    <tr>\n",
       "      <th>1</th>\n",
       "      <td>Tipping the Velvet</td>\n",
       "      <td>53.74</td>\n",
       "      <td>In stock</td>\n",
       "      <td>One</td>\n",
       "      <td>Historical Fiction</td>\n",
       "      <td>http://books.toscrape.com/catalogue/tipping-th...</td>\n",
       "    </tr>\n",
       "    <tr>\n",
       "      <th>2</th>\n",
       "      <td>Soumission</td>\n",
       "      <td>50.10</td>\n",
       "      <td>In stock</td>\n",
       "      <td>One</td>\n",
       "      <td>Fiction</td>\n",
       "      <td>http://books.toscrape.com/catalogue/soumission...</td>\n",
       "    </tr>\n",
       "    <tr>\n",
       "      <th>3</th>\n",
       "      <td>Sharp Objects</td>\n",
       "      <td>47.82</td>\n",
       "      <td>In stock</td>\n",
       "      <td>Four</td>\n",
       "      <td>Mystery</td>\n",
       "      <td>http://books.toscrape.com/catalogue/sharp-obje...</td>\n",
       "    </tr>\n",
       "    <tr>\n",
       "      <th>4</th>\n",
       "      <td>Sapiens: A Brief History of Humankind</td>\n",
       "      <td>54.23</td>\n",
       "      <td>In stock</td>\n",
       "      <td>Five</td>\n",
       "      <td>History</td>\n",
       "      <td>http://books.toscrape.com/catalogue/sapiens-a-...</td>\n",
       "    </tr>\n",
       "  </tbody>\n",
       "</table>\n",
       "</div>"
      ],
      "text/plain": [
       "                                   title  price     stock rating  \\\n",
       "0                   A Light in the Attic  51.77  In stock  Three   \n",
       "1                     Tipping the Velvet  53.74  In stock    One   \n",
       "2                             Soumission  50.10  In stock    One   \n",
       "3                          Sharp Objects  47.82  In stock   Four   \n",
       "4  Sapiens: A Brief History of Humankind  54.23  In stock   Five   \n",
       "\n",
       "             category                                           book_url  \n",
       "0              Poetry  http://books.toscrape.com/catalogue/a-light-in...  \n",
       "1  Historical Fiction  http://books.toscrape.com/catalogue/tipping-th...  \n",
       "2             Fiction  http://books.toscrape.com/catalogue/soumission...  \n",
       "3             Mystery  http://books.toscrape.com/catalogue/sharp-obje...  \n",
       "4             History  http://books.toscrape.com/catalogue/sapiens-a-...  "
      ]
     },
     "execution_count": 5,
     "metadata": {},
     "output_type": "execute_result"
    }
   ],
   "source": [
    "df.head()"
   ]
  },
  {
   "cell_type": "markdown",
   "id": "825ad39c",
   "metadata": {},
   "source": [
    "Info of the dataset"
   ]
  },
  {
   "cell_type": "code",
   "execution_count": 6,
   "id": "cf50ffbb",
   "metadata": {},
   "outputs": [
    {
     "name": "stdout",
     "output_type": "stream",
     "text": [
      "<class 'pandas.core.frame.DataFrame'>\n",
      "RangeIndex: 1000 entries, 0 to 999\n",
      "Data columns (total 6 columns):\n",
      " #   Column    Non-Null Count  Dtype  \n",
      "---  ------    --------------  -----  \n",
      " 0   title     1000 non-null   object \n",
      " 1   price     1000 non-null   float64\n",
      " 2   stock     1000 non-null   object \n",
      " 3   rating    1000 non-null   object \n",
      " 4   category  1000 non-null   object \n",
      " 5   book_url  1000 non-null   object \n",
      "dtypes: float64(1), object(5)\n",
      "memory usage: 47.0+ KB\n"
     ]
    }
   ],
   "source": [
    "df.info()"
   ]
  },
  {
   "cell_type": "markdown",
   "id": "c2f1d950",
   "metadata": {},
   "source": [
    "Basic Statistics"
   ]
  },
  {
   "cell_type": "code",
   "execution_count": 7,
   "id": "ada2c5ed",
   "metadata": {},
   "outputs": [
    {
     "data": {
      "text/html": [
       "<div>\n",
       "<style scoped>\n",
       "    .dataframe tbody tr th:only-of-type {\n",
       "        vertical-align: middle;\n",
       "    }\n",
       "\n",
       "    .dataframe tbody tr th {\n",
       "        vertical-align: top;\n",
       "    }\n",
       "\n",
       "    .dataframe thead th {\n",
       "        text-align: right;\n",
       "    }\n",
       "</style>\n",
       "<table border=\"1\" class=\"dataframe\">\n",
       "  <thead>\n",
       "    <tr style=\"text-align: right;\">\n",
       "      <th></th>\n",
       "      <th>title</th>\n",
       "      <th>price</th>\n",
       "      <th>stock</th>\n",
       "      <th>rating</th>\n",
       "      <th>category</th>\n",
       "      <th>book_url</th>\n",
       "    </tr>\n",
       "  </thead>\n",
       "  <tbody>\n",
       "    <tr>\n",
       "      <th>count</th>\n",
       "      <td>1000</td>\n",
       "      <td>1000.00000</td>\n",
       "      <td>1000</td>\n",
       "      <td>1000</td>\n",
       "      <td>1000</td>\n",
       "      <td>1000</td>\n",
       "    </tr>\n",
       "    <tr>\n",
       "      <th>unique</th>\n",
       "      <td>999</td>\n",
       "      <td>NaN</td>\n",
       "      <td>1</td>\n",
       "      <td>5</td>\n",
       "      <td>50</td>\n",
       "      <td>1000</td>\n",
       "    </tr>\n",
       "    <tr>\n",
       "      <th>top</th>\n",
       "      <td>The Star-Touched Queen</td>\n",
       "      <td>NaN</td>\n",
       "      <td>In stock</td>\n",
       "      <td>One</td>\n",
       "      <td>Default</td>\n",
       "      <td>http://books.toscrape.com/catalogue/1000-place...</td>\n",
       "    </tr>\n",
       "    <tr>\n",
       "      <th>freq</th>\n",
       "      <td>2</td>\n",
       "      <td>NaN</td>\n",
       "      <td>1000</td>\n",
       "      <td>226</td>\n",
       "      <td>152</td>\n",
       "      <td>1</td>\n",
       "    </tr>\n",
       "    <tr>\n",
       "      <th>mean</th>\n",
       "      <td>NaN</td>\n",
       "      <td>35.07035</td>\n",
       "      <td>NaN</td>\n",
       "      <td>NaN</td>\n",
       "      <td>NaN</td>\n",
       "      <td>NaN</td>\n",
       "    </tr>\n",
       "    <tr>\n",
       "      <th>std</th>\n",
       "      <td>NaN</td>\n",
       "      <td>14.44669</td>\n",
       "      <td>NaN</td>\n",
       "      <td>NaN</td>\n",
       "      <td>NaN</td>\n",
       "      <td>NaN</td>\n",
       "    </tr>\n",
       "    <tr>\n",
       "      <th>min</th>\n",
       "      <td>NaN</td>\n",
       "      <td>10.00000</td>\n",
       "      <td>NaN</td>\n",
       "      <td>NaN</td>\n",
       "      <td>NaN</td>\n",
       "      <td>NaN</td>\n",
       "    </tr>\n",
       "    <tr>\n",
       "      <th>25%</th>\n",
       "      <td>NaN</td>\n",
       "      <td>22.10750</td>\n",
       "      <td>NaN</td>\n",
       "      <td>NaN</td>\n",
       "      <td>NaN</td>\n",
       "      <td>NaN</td>\n",
       "    </tr>\n",
       "    <tr>\n",
       "      <th>50%</th>\n",
       "      <td>NaN</td>\n",
       "      <td>35.98000</td>\n",
       "      <td>NaN</td>\n",
       "      <td>NaN</td>\n",
       "      <td>NaN</td>\n",
       "      <td>NaN</td>\n",
       "    </tr>\n",
       "    <tr>\n",
       "      <th>75%</th>\n",
       "      <td>NaN</td>\n",
       "      <td>47.45750</td>\n",
       "      <td>NaN</td>\n",
       "      <td>NaN</td>\n",
       "      <td>NaN</td>\n",
       "      <td>NaN</td>\n",
       "    </tr>\n",
       "    <tr>\n",
       "      <th>max</th>\n",
       "      <td>NaN</td>\n",
       "      <td>59.99000</td>\n",
       "      <td>NaN</td>\n",
       "      <td>NaN</td>\n",
       "      <td>NaN</td>\n",
       "      <td>NaN</td>\n",
       "    </tr>\n",
       "  </tbody>\n",
       "</table>\n",
       "</div>"
      ],
      "text/plain": [
       "                         title       price     stock rating category  \\\n",
       "count                     1000  1000.00000      1000   1000     1000   \n",
       "unique                     999         NaN         1      5       50   \n",
       "top     The Star-Touched Queen         NaN  In stock    One  Default   \n",
       "freq                         2         NaN      1000    226      152   \n",
       "mean                       NaN    35.07035       NaN    NaN      NaN   \n",
       "std                        NaN    14.44669       NaN    NaN      NaN   \n",
       "min                        NaN    10.00000       NaN    NaN      NaN   \n",
       "25%                        NaN    22.10750       NaN    NaN      NaN   \n",
       "50%                        NaN    35.98000       NaN    NaN      NaN   \n",
       "75%                        NaN    47.45750       NaN    NaN      NaN   \n",
       "max                        NaN    59.99000       NaN    NaN      NaN   \n",
       "\n",
       "                                                 book_url  \n",
       "count                                                1000  \n",
       "unique                                               1000  \n",
       "top     http://books.toscrape.com/catalogue/1000-place...  \n",
       "freq                                                    1  \n",
       "mean                                                  NaN  \n",
       "std                                                   NaN  \n",
       "min                                                   NaN  \n",
       "25%                                                   NaN  \n",
       "50%                                                   NaN  \n",
       "75%                                                   NaN  \n",
       "max                                                   NaN  "
      ]
     },
     "execution_count": 7,
     "metadata": {},
     "output_type": "execute_result"
    }
   ],
   "source": [
    "df.describe(include='all')"
   ]
  },
  {
   "cell_type": "markdown",
   "id": "7900da8a",
   "metadata": {},
   "source": [
    "***remove duplicate titles***"
   ]
  },
  {
   "cell_type": "code",
   "execution_count": 8,
   "id": "61ca45de",
   "metadata": {},
   "outputs": [
    {
     "data": {
      "text/plain": [
       "(999, 6)"
      ]
     },
     "execution_count": 8,
     "metadata": {},
     "output_type": "execute_result"
    }
   ],
   "source": [
    "df=df.drop_duplicates(subset='title')\n",
    "df.shape"
   ]
  },
  {
   "cell_type": "markdown",
   "id": "835ac8e5",
   "metadata": {},
   "source": [
    "***Clean Stock Column(extract number from stock using regex)***"
   ]
  },
  {
   "cell_type": "code",
   "execution_count": 9,
   "id": "aa241468",
   "metadata": {},
   "outputs": [],
   "source": [
    "df.drop('stock',axis=1,inplace=True)"
   ]
  },
  {
   "cell_type": "markdown",
   "id": "403050aa",
   "metadata": {},
   "source": [
    "***Convert 'rating' from text to numeric***"
   ]
  },
  {
   "cell_type": "code",
   "execution_count": 10,
   "id": "7aa3dd7e",
   "metadata": {},
   "outputs": [],
   "source": [
    "rating_map={\n",
    "    'One': 1,\n",
    "    'Two': 2,\n",
    "    'Three': 3,\n",
    "    'Four': 4,\n",
    "    'Five': 5\n",
    "}\n",
    "df['rating']=df['rating'].map(rating_map)"
   ]
  },
  {
   "cell_type": "markdown",
   "id": "2e88d2c6",
   "metadata": {},
   "source": [
    "***Drop 'book_url' (not useful for analysis)***"
   ]
  },
  {
   "cell_type": "code",
   "execution_count": 11,
   "id": "376fd0db",
   "metadata": {},
   "outputs": [],
   "source": [
    "df.drop('book_url',axis=1,inplace=True)"
   ]
  },
  {
   "cell_type": "markdown",
   "id": "f6847b25",
   "metadata": {},
   "source": [
    "***Normalize 'price' using Min-Max Scaling***"
   ]
  },
  {
   "cell_type": "code",
   "execution_count": 12,
   "id": "b13e163b",
   "metadata": {},
   "outputs": [],
   "source": [
    "df['price_normalized']=(df['price']-df['price'].min())/(df['price'].max()-df['price'].min())"
   ]
  },
  {
   "cell_type": "markdown",
   "id": "44fd2340",
   "metadata": {},
   "source": [
    "***One-hot encode 'category' (drop_first=True to avoid dummy variable trap)***"
   ]
  },
  {
   "cell_type": "code",
   "execution_count": 13,
   "id": "072f28c0",
   "metadata": {},
   "outputs": [],
   "source": [
    "df=pd.get_dummies(df,columns=['category'],drop_first=True)"
   ]
  },
  {
   "cell_type": "code",
   "execution_count": 14,
   "id": "3bc87e87",
   "metadata": {},
   "outputs": [
    {
     "data": {
      "text/html": [
       "<div>\n",
       "<style scoped>\n",
       "    .dataframe tbody tr th:only-of-type {\n",
       "        vertical-align: middle;\n",
       "    }\n",
       "\n",
       "    .dataframe tbody tr th {\n",
       "        vertical-align: top;\n",
       "    }\n",
       "\n",
       "    .dataframe thead th {\n",
       "        text-align: right;\n",
       "    }\n",
       "</style>\n",
       "<table border=\"1\" class=\"dataframe\">\n",
       "  <thead>\n",
       "    <tr style=\"text-align: right;\">\n",
       "      <th></th>\n",
       "      <th>title</th>\n",
       "      <th>price</th>\n",
       "      <th>rating</th>\n",
       "      <th>price_normalized</th>\n",
       "      <th>category_Add a comment</th>\n",
       "      <th>category_Adult Fiction</th>\n",
       "      <th>category_Art</th>\n",
       "      <th>category_Autobiography</th>\n",
       "      <th>category_Biography</th>\n",
       "      <th>category_Business</th>\n",
       "      <th>...</th>\n",
       "      <th>category_Self Help</th>\n",
       "      <th>category_Sequential Art</th>\n",
       "      <th>category_Short Stories</th>\n",
       "      <th>category_Spirituality</th>\n",
       "      <th>category_Sports and Games</th>\n",
       "      <th>category_Suspense</th>\n",
       "      <th>category_Thriller</th>\n",
       "      <th>category_Travel</th>\n",
       "      <th>category_Womens Fiction</th>\n",
       "      <th>category_Young Adult</th>\n",
       "    </tr>\n",
       "  </thead>\n",
       "  <tbody>\n",
       "    <tr>\n",
       "      <th>0</th>\n",
       "      <td>A Light in the Attic</td>\n",
       "      <td>51.77</td>\n",
       "      <td>3</td>\n",
       "      <td>0.835567</td>\n",
       "      <td>False</td>\n",
       "      <td>False</td>\n",
       "      <td>False</td>\n",
       "      <td>False</td>\n",
       "      <td>False</td>\n",
       "      <td>False</td>\n",
       "      <td>...</td>\n",
       "      <td>False</td>\n",
       "      <td>False</td>\n",
       "      <td>False</td>\n",
       "      <td>False</td>\n",
       "      <td>False</td>\n",
       "      <td>False</td>\n",
       "      <td>False</td>\n",
       "      <td>False</td>\n",
       "      <td>False</td>\n",
       "      <td>False</td>\n",
       "    </tr>\n",
       "    <tr>\n",
       "      <th>1</th>\n",
       "      <td>Tipping the Velvet</td>\n",
       "      <td>53.74</td>\n",
       "      <td>1</td>\n",
       "      <td>0.874975</td>\n",
       "      <td>False</td>\n",
       "      <td>False</td>\n",
       "      <td>False</td>\n",
       "      <td>False</td>\n",
       "      <td>False</td>\n",
       "      <td>False</td>\n",
       "      <td>...</td>\n",
       "      <td>False</td>\n",
       "      <td>False</td>\n",
       "      <td>False</td>\n",
       "      <td>False</td>\n",
       "      <td>False</td>\n",
       "      <td>False</td>\n",
       "      <td>False</td>\n",
       "      <td>False</td>\n",
       "      <td>False</td>\n",
       "      <td>False</td>\n",
       "    </tr>\n",
       "    <tr>\n",
       "      <th>2</th>\n",
       "      <td>Soumission</td>\n",
       "      <td>50.10</td>\n",
       "      <td>1</td>\n",
       "      <td>0.802160</td>\n",
       "      <td>False</td>\n",
       "      <td>False</td>\n",
       "      <td>False</td>\n",
       "      <td>False</td>\n",
       "      <td>False</td>\n",
       "      <td>False</td>\n",
       "      <td>...</td>\n",
       "      <td>False</td>\n",
       "      <td>False</td>\n",
       "      <td>False</td>\n",
       "      <td>False</td>\n",
       "      <td>False</td>\n",
       "      <td>False</td>\n",
       "      <td>False</td>\n",
       "      <td>False</td>\n",
       "      <td>False</td>\n",
       "      <td>False</td>\n",
       "    </tr>\n",
       "    <tr>\n",
       "      <th>3</th>\n",
       "      <td>Sharp Objects</td>\n",
       "      <td>47.82</td>\n",
       "      <td>4</td>\n",
       "      <td>0.756551</td>\n",
       "      <td>False</td>\n",
       "      <td>False</td>\n",
       "      <td>False</td>\n",
       "      <td>False</td>\n",
       "      <td>False</td>\n",
       "      <td>False</td>\n",
       "      <td>...</td>\n",
       "      <td>False</td>\n",
       "      <td>False</td>\n",
       "      <td>False</td>\n",
       "      <td>False</td>\n",
       "      <td>False</td>\n",
       "      <td>False</td>\n",
       "      <td>False</td>\n",
       "      <td>False</td>\n",
       "      <td>False</td>\n",
       "      <td>False</td>\n",
       "    </tr>\n",
       "    <tr>\n",
       "      <th>4</th>\n",
       "      <td>Sapiens: A Brief History of Humankind</td>\n",
       "      <td>54.23</td>\n",
       "      <td>5</td>\n",
       "      <td>0.884777</td>\n",
       "      <td>False</td>\n",
       "      <td>False</td>\n",
       "      <td>False</td>\n",
       "      <td>False</td>\n",
       "      <td>False</td>\n",
       "      <td>False</td>\n",
       "      <td>...</td>\n",
       "      <td>False</td>\n",
       "      <td>False</td>\n",
       "      <td>False</td>\n",
       "      <td>False</td>\n",
       "      <td>False</td>\n",
       "      <td>False</td>\n",
       "      <td>False</td>\n",
       "      <td>False</td>\n",
       "      <td>False</td>\n",
       "      <td>False</td>\n",
       "    </tr>\n",
       "  </tbody>\n",
       "</table>\n",
       "<p>5 rows × 53 columns</p>\n",
       "</div>"
      ],
      "text/plain": [
       "                                   title  price  rating  price_normalized  \\\n",
       "0                   A Light in the Attic  51.77       3          0.835567   \n",
       "1                     Tipping the Velvet  53.74       1          0.874975   \n",
       "2                             Soumission  50.10       1          0.802160   \n",
       "3                          Sharp Objects  47.82       4          0.756551   \n",
       "4  Sapiens: A Brief History of Humankind  54.23       5          0.884777   \n",
       "\n",
       "   category_Add a comment  category_Adult Fiction  category_Art  \\\n",
       "0                   False                   False         False   \n",
       "1                   False                   False         False   \n",
       "2                   False                   False         False   \n",
       "3                   False                   False         False   \n",
       "4                   False                   False         False   \n",
       "\n",
       "   category_Autobiography  category_Biography  category_Business  ...  \\\n",
       "0                   False               False              False  ...   \n",
       "1                   False               False              False  ...   \n",
       "2                   False               False              False  ...   \n",
       "3                   False               False              False  ...   \n",
       "4                   False               False              False  ...   \n",
       "\n",
       "   category_Self Help  category_Sequential Art  category_Short Stories  \\\n",
       "0               False                    False                   False   \n",
       "1               False                    False                   False   \n",
       "2               False                    False                   False   \n",
       "3               False                    False                   False   \n",
       "4               False                    False                   False   \n",
       "\n",
       "   category_Spirituality  category_Sports and Games  category_Suspense  \\\n",
       "0                  False                      False              False   \n",
       "1                  False                      False              False   \n",
       "2                  False                      False              False   \n",
       "3                  False                      False              False   \n",
       "4                  False                      False              False   \n",
       "\n",
       "   category_Thriller  category_Travel  category_Womens Fiction  \\\n",
       "0              False            False                    False   \n",
       "1              False            False                    False   \n",
       "2              False            False                    False   \n",
       "3              False            False                    False   \n",
       "4              False            False                    False   \n",
       "\n",
       "   category_Young Adult  \n",
       "0                 False  \n",
       "1                 False  \n",
       "2                 False  \n",
       "3                 False  \n",
       "4                 False  \n",
       "\n",
       "[5 rows x 53 columns]"
      ]
     },
     "execution_count": 14,
     "metadata": {},
     "output_type": "execute_result"
    }
   ],
   "source": [
    "df.head()"
   ]
  },
  {
   "cell_type": "markdown",
   "id": "ffd830e6",
   "metadata": {},
   "source": [
    "📌 Output Columns in Cleaned Data\n",
    "After preprocessing, final dataset will include:\n",
    "\n",
    "title (string)\n",
    "\n",
    "price (float)\n",
    "\n",
    "rating (int: 1 to 5)\n",
    "\n",
    "price_normalized (float between 0 and 1)\n",
    "\n",
    "category_* (one-hot encoded category columns)"
   ]
  },
  {
   "cell_type": "markdown",
   "id": "356fe510",
   "metadata": {},
   "source": [
    "***Task-2: Exploratory Data Analysis(EDA)***\n",
    "Problem Statement:\n",
    "\n",
    "Perform exploratory data analysis on a chosen dataset.\n",
    "\n",
    "Steps to Complete:\n",
    "\n",
    "Load the cleaned dataset using Pandas.\n",
    "\n",
    "Create visualizations using Matplotlib and Seaborn.\n",
    "\n",
    "Summarize insights and key findings from your analysis.\n",
    "\n",
    "Tools/Datasets/Platforms:\n",
    "\n",
    "Python, Pandas, Matplotlib, Seaborn."
   ]
  },
  {
   "cell_type": "markdown",
   "id": "ebbdb926",
   "metadata": {},
   "source": [
    "***Import libraries***"
   ]
  },
  {
   "cell_type": "code",
   "execution_count": 15,
   "id": "f6705925",
   "metadata": {},
   "outputs": [],
   "source": [
    "import matplotlib.pyplot as plt\n",
    "import seaborn as sns"
   ]
  },
  {
   "cell_type": "markdown",
   "id": "e56f065e",
   "metadata": {},
   "source": [
    "***Set Style for seaborn***"
   ]
  },
  {
   "cell_type": "code",
   "execution_count": 16,
   "id": "0008937c",
   "metadata": {},
   "outputs": [],
   "source": [
    "sns.set(style=\"whitegrid\")"
   ]
  },
  {
   "cell_type": "markdown",
   "id": "17000c32",
   "metadata": {},
   "source": [
    "Cleaned dataset overview"
   ]
  },
  {
   "cell_type": "code",
   "execution_count": 17,
   "id": "42dc1d08",
   "metadata": {},
   "outputs": [
    {
     "name": "stdout",
     "output_type": "stream",
     "text": [
      "<class 'pandas.core.frame.DataFrame'>\n",
      "Index: 999 entries, 0 to 999\n",
      "Data columns (total 53 columns):\n",
      " #   Column                       Non-Null Count  Dtype  \n",
      "---  ------                       --------------  -----  \n",
      " 0   title                        999 non-null    object \n",
      " 1   price                        999 non-null    float64\n",
      " 2   rating                       999 non-null    int64  \n",
      " 3   price_normalized             999 non-null    float64\n",
      " 4   category_Add a comment       999 non-null    bool   \n",
      " 5   category_Adult Fiction       999 non-null    bool   \n",
      " 6   category_Art                 999 non-null    bool   \n",
      " 7   category_Autobiography       999 non-null    bool   \n",
      " 8   category_Biography           999 non-null    bool   \n",
      " 9   category_Business            999 non-null    bool   \n",
      " 10  category_Childrens           999 non-null    bool   \n",
      " 11  category_Christian           999 non-null    bool   \n",
      " 12  category_Christian Fiction   999 non-null    bool   \n",
      " 13  category_Classics            999 non-null    bool   \n",
      " 14  category_Contemporary        999 non-null    bool   \n",
      " 15  category_Crime               999 non-null    bool   \n",
      " 16  category_Cultural            999 non-null    bool   \n",
      " 17  category_Default             999 non-null    bool   \n",
      " 18  category_Erotica             999 non-null    bool   \n",
      " 19  category_Fantasy             999 non-null    bool   \n",
      " 20  category_Fiction             999 non-null    bool   \n",
      " 21  category_Food and Drink      999 non-null    bool   \n",
      " 22  category_Health              999 non-null    bool   \n",
      " 23  category_Historical          999 non-null    bool   \n",
      " 24  category_Historical Fiction  999 non-null    bool   \n",
      " 25  category_History             999 non-null    bool   \n",
      " 26  category_Horror              999 non-null    bool   \n",
      " 27  category_Humor               999 non-null    bool   \n",
      " 28  category_Music               999 non-null    bool   \n",
      " 29  category_Mystery             999 non-null    bool   \n",
      " 30  category_New Adult           999 non-null    bool   \n",
      " 31  category_Nonfiction          999 non-null    bool   \n",
      " 32  category_Novels              999 non-null    bool   \n",
      " 33  category_Paranormal          999 non-null    bool   \n",
      " 34  category_Parenting           999 non-null    bool   \n",
      " 35  category_Philosophy          999 non-null    bool   \n",
      " 36  category_Poetry              999 non-null    bool   \n",
      " 37  category_Politics            999 non-null    bool   \n",
      " 38  category_Psychology          999 non-null    bool   \n",
      " 39  category_Religion            999 non-null    bool   \n",
      " 40  category_Romance             999 non-null    bool   \n",
      " 41  category_Science             999 non-null    bool   \n",
      " 42  category_Science Fiction     999 non-null    bool   \n",
      " 43  category_Self Help           999 non-null    bool   \n",
      " 44  category_Sequential Art      999 non-null    bool   \n",
      " 45  category_Short Stories       999 non-null    bool   \n",
      " 46  category_Spirituality        999 non-null    bool   \n",
      " 47  category_Sports and Games    999 non-null    bool   \n",
      " 48  category_Suspense            999 non-null    bool   \n",
      " 49  category_Thriller            999 non-null    bool   \n",
      " 50  category_Travel              999 non-null    bool   \n",
      " 51  category_Womens Fiction      999 non-null    bool   \n",
      " 52  category_Young Adult         999 non-null    bool   \n",
      "dtypes: bool(49), float64(2), int64(1), object(1)\n",
      "memory usage: 86.8+ KB\n"
     ]
    }
   ],
   "source": [
    "df.info()"
   ]
  },
  {
   "cell_type": "markdown",
   "id": "ba8528b4",
   "metadata": {},
   "source": [
    "*** Check for missing values***"
   ]
  },
  {
   "cell_type": "code",
   "execution_count": 19,
   "id": "5dbdfe6d",
   "metadata": {},
   "outputs": [
    {
     "data": {
      "text/plain": [
       "title                          0\n",
       "price                          0\n",
       "rating                         0\n",
       "price_normalized               0\n",
       "category_Add a comment         0\n",
       "category_Adult Fiction         0\n",
       "category_Art                   0\n",
       "category_Autobiography         0\n",
       "category_Biography             0\n",
       "category_Business              0\n",
       "category_Childrens             0\n",
       "category_Christian             0\n",
       "category_Christian Fiction     0\n",
       "category_Classics              0\n",
       "category_Contemporary          0\n",
       "category_Crime                 0\n",
       "category_Cultural              0\n",
       "category_Default               0\n",
       "category_Erotica               0\n",
       "category_Fantasy               0\n",
       "category_Fiction               0\n",
       "category_Food and Drink        0\n",
       "category_Health                0\n",
       "category_Historical            0\n",
       "category_Historical Fiction    0\n",
       "category_History               0\n",
       "category_Horror                0\n",
       "category_Humor                 0\n",
       "category_Music                 0\n",
       "category_Mystery               0\n",
       "category_New Adult             0\n",
       "category_Nonfiction            0\n",
       "category_Novels                0\n",
       "category_Paranormal            0\n",
       "category_Parenting             0\n",
       "category_Philosophy            0\n",
       "category_Poetry                0\n",
       "category_Politics              0\n",
       "category_Psychology            0\n",
       "category_Religion              0\n",
       "category_Romance               0\n",
       "category_Science               0\n",
       "category_Science Fiction       0\n",
       "category_Self Help             0\n",
       "category_Sequential Art        0\n",
       "category_Short Stories         0\n",
       "category_Spirituality          0\n",
       "category_Sports and Games      0\n",
       "category_Suspense              0\n",
       "category_Thriller              0\n",
       "category_Travel                0\n",
       "category_Womens Fiction        0\n",
       "category_Young Adult           0\n",
       "dtype: int64"
      ]
     },
     "execution_count": 19,
     "metadata": {},
     "output_type": "execute_result"
    }
   ],
   "source": [
    "df.isnull().sum()"
   ]
  },
  {
   "cell_type": "markdown",
   "id": "7e8c6a39",
   "metadata": {},
   "source": [
    "There are no missing values"
   ]
  },
  {
   "cell_type": "markdown",
   "id": "b2836e3c",
   "metadata": {},
   "source": [
    "***Distribution of price and rating***"
   ]
  },
  {
   "cell_type": "code",
   "execution_count": 20,
   "id": "7f0abae1",
   "metadata": {},
   "outputs": [
    {
     "data": {
      "image/png": "[encoded data removed]",
      "text/plain": [
       "<Figure size 800x500 with 1 Axes>"
      ]
     },
     "metadata": {},
     "output_type": "display_data"
    }
   ],
   "source": [
    "#Histogram of book prices\n",
    "plt.figure(figsize=(8,5))\n",
    "sns.histplot(df['price'],bins=30,kde=True,color='skyblue')\n",
    "plt.title('Distribution of Book Prices')\n",
    "plt.xlabel('Price')\n",
    "plt.ylabel('Frequency')\n",
    "plt.show()"
   ]
  },
  {
   "cell_type": "code",
   "execution_count": 28,
   "id": "0678d4f1",
   "metadata": {},
   "outputs": [
    {
     "data": {
      "image/png": "[encoded data removed]",
      "text/plain": [
       "<Figure size 600x400 with 1 Axes>"
      ]
     },
     "metadata": {},
     "output_type": "display_data"
    }
   ],
   "source": [
    "# Countplot of Ratings\n",
    "plt.figure(figsize=(6,4))\n",
    "sns.countplot(x='rating',data=df,hue='rating',palette='viridis')\n",
    "plt.title('Distribution of Book Ratings')\n",
    "plt.xlabel('Rating (1-5)')\n",
    "plt.ylabel('Count')\n",
    "plt.show()"
   ]
  },
  {
   "cell_type": "markdown",
   "id": "39f02227",
   "metadata": {},
   "source": [
    "***Get one-hot encoded category columns***"
   ]
  },
  {
   "cell_type": "code",
   "execution_count": 25,
   "id": "393affe4",
   "metadata": {},
   "outputs": [],
   "source": [
    "category_columns=[col for col in df.columns if col.startswith('category_')]"
   ]
  },
  {
   "cell_type": "markdown",
   "id": "d115c80d",
   "metadata": {},
   "source": [
    "***Sum the one-hot encoded columns to count category occurrences***"
   ]
  },
  {
   "cell_type": "code",
   "execution_count": 26,
   "id": "c18d627f",
   "metadata": {},
   "outputs": [],
   "source": [
    "category_counts=df[category_columns].sum().sort_values(ascending=False).head(10)"
   ]
  },
  {
   "cell_type": "markdown",
   "id": "b7718d58",
   "metadata": {},
   "source": [
    "***Convert category_counts to DataFrame***"
   ]
  },
  {
   "cell_type": "code",
   "execution_count": 34,
   "id": "4a10f53b",
   "metadata": {},
   "outputs": [],
   "source": [
    "category_df=category_counts.reset_index()\n",
    "category_df.columns=['category','count']"
   ]
  },
  {
   "cell_type": "markdown",
   "id": "0196f24c",
   "metadata": {},
   "source": [
    "***Top 10 most frequent categories***"
   ]
  },
  {
   "cell_type": "code",
   "execution_count": 39,
   "id": "d6eec777",
   "metadata": {},
   "outputs": [
    {
     "data": {
      "image/png": "[encoded data removed]",
      "text/plain": [
       "<Figure size 1000x500 with 1 Axes>"
      ]
     },
     "metadata": {},
     "output_type": "display_data"
    }
   ],
   "source": [
    "plt.figure(figsize=(10,5))\n",
    "sns.barplot(data=category_df,x='count',y='category',hue='category',palette='magma',dodge=False,legend=False)\n",
    "plt.title('Top 10 Most Common Book Categories')\n",
    "plt.xlabel('Number of Books')\n",
    "plt.ylabel('Category')\n",
    "plt.show()"
   ]
  },
  {
   "cell_type": "code",
   "execution_count": 41,
   "id": "1b01f213",
   "metadata": {},
   "outputs": [
    {
     "data": {
      "image/png": "[encoded data removed]",
      "text/plain": [
       "<Figure size 800x500 with 1 Axes>"
      ]
     },
     "metadata": {},
     "output_type": "display_data"
    }
   ],
   "source": [
    "# Scatter plot of price vs rating\n",
    "plt.figure(figsize=(8,5))\n",
    "sns.boxplot(x='rating',y='price',data=df,hue='rating',palette='coolwarm')\n",
    "plt.title('Boxplot of Book Prices by Rating')\n",
    "plt.xlabel('Rating')\n",
    "plt.ylabel('Price')\n",
    "plt.show()"
   ]
  },
  {
   "cell_type": "markdown",
   "id": "005bdb16",
   "metadata": {},
   "source": [
    "***Plot correlation heatmap***\n"
   ]
  },
  {
   "cell_type": "code",
   "execution_count": 43,
   "id": "553a2017",
   "metadata": {},
   "outputs": [
    {
     "data": {
      "image/png": "[encoded data removed]",
      "text/plain": [
       "<Figure size 1000x600 with 2 Axes>"
      ]
     },
     "metadata": {},
     "output_type": "display_data"
    }
   ],
   "source": [
    "numeric_df = df.select_dtypes(include=['number'])\n",
    "\n",
    "plt.figure(figsize=(10,6))\n",
    "sns.heatmap(numeric_df.corr(), annot=True, cmap='YlGnBu', fmt=\".2f\")\n",
    "plt.title('Correlation Heatmap')\n",
    "plt.show()"
   ]
  },
  {
   "cell_type": "markdown",
   "id": "6739332f",
   "metadata": {},
   "source": [
    "Top Book Categories Insights:\n",
    "\n",
    "From the bar chart of the top 10 most common categories:\n",
    "\n",
    "High frequency of category_Default and category_Add a comment:\n",
    "\n",
    "These are likely invalid or placeholder categories.\n",
    "\n",
    "Suggests a data cleaning opportunity—these categories may distort real trends.\n",
    "\n",
    "Nonfiction is the most common meaningful category:\n",
    "\n",
    "Indicates a large interest in factual, real-world topics in this dataset.\n",
    "\n",
    "Popular genres like Sequential Art, Fiction, Young Adult, Fantasy, and Romance are well represented:\n",
    "\n",
    "These genres together cover a diverse audience base—from graphic novel readers to fantasy lovers.\n",
    "\n",
    "Bookstore recommendations or marketing efforts could be tailored to these genres.\n",
    "\n",
    "Food and Drink appears as a niche but present category:\n",
    "\n",
    "Could be leveraged for targeted campaigns or specialized book collection"
   ]
  },
  {
   "cell_type": "markdown",
   "id": "dd195628",
   "metadata": {},
   "source": [
    "***Task 3: Linear Regression Model***\n",
    "\n",
    "Problem Statement:\n",
    "\n",
    "Build a linear regression model to predict a target variable.\n",
    "\n",
    "Steps to Complete:\n",
    "\n",
    "Select a suitable dataset for regression.\n",
    "\n",
    "Split the dataset into training and testing sets.\n",
    "\n",
    "Train a linear regression model using Scikit-learn.\n",
    "\n",
    "Evaluate the model’s performance.\n",
    "\n",
    "Tools/Datasets/Platforms:\n",
    "\n",
    "Python, Scikit-learn, Jupyter Notebook."
   ]
  },
  {
   "cell_type": "markdown",
   "id": "e92412be",
   "metadata": {},
   "source": [
    "***import all required libraries***"
   ]
  },
  {
   "cell_type": "code",
   "execution_count": 44,
   "id": "9ff54b23",
   "metadata": {},
   "outputs": [],
   "source": [
    "from sklearn.model_selection import train_test_split\n",
    "from sklearn.linear_model import LinearRegression\n",
    "from sklearn.metrics import mean_squared_error,r2_score"
   ]
  },
  {
   "cell_type": "markdown",
   "id": "937f9fb5",
   "metadata": {},
   "source": [
    "***Clean and select numeric columns for regression***"
   ]
  },
  {
   "cell_type": "code",
   "execution_count": 46,
   "id": "236d42ab",
   "metadata": {},
   "outputs": [],
   "source": [
    "df = df[['price', 'rating']]"
   ]
  },
  {
   "cell_type": "markdown",
   "id": "f44d4026",
   "metadata": {},
   "source": [
    "***Define features and target***"
   ]
  },
  {
   "cell_type": "code",
   "execution_count": 47,
   "id": "e6700b2b",
   "metadata": {},
   "outputs": [],
   "source": [
    "X=df[['rating']]\n",
    "y=df['price']"
   ]
  },
  {
   "cell_type": "markdown",
   "id": "3e58ded3",
   "metadata": {},
   "source": [
    "***Split into train and test sets***"
   ]
  },
  {
   "cell_type": "code",
   "execution_count": 48,
   "id": "bd482941",
   "metadata": {},
   "outputs": [],
   "source": [
    "X_train, X_test, y_train, y_test=train_test_split(X,y,test_size=0.2,random_state=42)"
   ]
  },
  {
   "cell_type": "markdown",
   "id": "2675f6bf",
   "metadata": {},
   "source": [
    "***Train the linear regression model***"
   ]
  },
  {
   "cell_type": "code",
   "execution_count": 49,
   "id": "ca624fc1",
   "metadata": {},
   "outputs": [
    {
     "data": {
      "text/html": [
       "<style>#sk-container-id-1 {\n",
       "  /* Definition of color scheme common for light and dark mode */\n",
       "  --sklearn-color-text: #000;\n",
       "  --sklearn-color-text-muted: #666;\n",
       "  --sklearn-color-line: gray;\n",
       "  /* Definition of color scheme for unfitted estimators */\n",
       "  --sklearn-color-unfitted-level-0: #fff5e6;\n",
       "  --sklearn-color-unfitted-level-1: #f6e4d2;\n",
       "  --sklearn-color-unfitted-level-2: #ffe0b3;\n",
       "  --sklearn-color-unfitted-level-3: chocolate;\n",
       "  /* Definition of color scheme for fitted estimators */\n",
       "  --sklearn-color-fitted-level-0: #f0f8ff;\n",
       "  --sklearn-color-fitted-level-1: #d4ebff;\n",
       "  --sklearn-color-fitted-level-2: #b3dbfd;\n",
       "  --sklearn-color-fitted-level-3: cornflowerblue;\n",
       "\n",
       "  /* Specific color for light theme */\n",
       "  --sklearn-color-text-on-default-background: var(--sg-text-color, var(--theme-code-foreground, var(--jp-content-font-color1, black)));\n",
       "  --sklearn-color-background: var(--sg-background-color, var(--theme-background, var(--jp-layout-color0, white)));\n",
       "  --sklearn-color-border-box: var(--sg-text-color, var(--theme-code-foreground, var(--jp-content-font-color1, black)));\n",
       "  --sklearn-color-icon: #696969;\n",
       "\n",
       "  @media (prefers-color-scheme: dark) {\n",
       "    /* Redefinition of color scheme for dark theme */\n",
       "    --sklearn-color-text-on-default-background: var(--sg-text-color, var(--theme-code-foreground, var(--jp-content-font-color1, white)));\n",
       "    --sklearn-color-background: var(--sg-background-color, var(--theme-background, var(--jp-layout-color0, #111)));\n",
       "    --sklearn-color-border-box: var(--sg-text-color, var(--theme-code-foreground, var(--jp-content-font-color1, white)));\n",
       "    --sklearn-color-icon: #878787;\n",
       "  }\n",
       "}\n",
       "\n",
       "#sk-container-id-1 {\n",
       "  color: var(--sklearn-color-text);\n",
       "}\n",
       "\n",
       "#sk-container-id-1 pre {\n",
       "  padding: 0;\n",
       "}\n",
       "\n",
       "#sk-container-id-1 input.sk-hidden--visually {\n",
       "  border: 0;\n",
       "  clip: rect(1px 1px 1px 1px);\n",
       "  clip: rect(1px, 1px, 1px, 1px);\n",
       "  height: 1px;\n",
       "  margin: -1px;\n",
       "  overflow: hidden;\n",
       "  padding: 0;\n",
       "  position: absolute;\n",
       "  width: 1px;\n",
       "}\n",
       "\n",
       "#sk-container-id-1 div.sk-dashed-wrapped {\n",
       "  border: 1px dashed var(--sklearn-color-line);\n",
       "  margin: 0 0.4em 0.5em 0.4em;\n",
       "  box-sizing: border-box;\n",
       "  padding-bottom: 0.4em;\n",
       "  background-color: var(--sklearn-color-background);\n",
       "}\n",
       "\n",
       "#sk-container-id-1 div.sk-container {\n",
       "  /* jupyter's `normalize.less` sets `[hidden] { display: none; }`\n",
       "     but bootstrap.min.css set `[hidden] { display: none !important; }`\n",
       "     so we also need the `!important` here to be able to override the\n",
       "     default hidden behavior on the sphinx rendered scikit-learn.org.\n",
       "     See: https://github.com/scikit-learn/scikit-learn/issues/21755 */\n",
       "  display: inline-block !important;\n",
       "  position: relative;\n",
       "}\n",
       "\n",
       "#sk-container-id-1 div.sk-text-repr-fallback {\n",
       "  display: none;\n",
       "}\n",
       "\n",
       "div.sk-parallel-item,\n",
       "div.sk-serial,\n",
       "div.sk-item {\n",
       "  /* draw centered vertical line to link estimators */\n",
       "  background-image: linear-gradient(var(--sklearn-color-text-on-default-background), var(--sklearn-color-text-on-default-background));\n",
       "  background-size: 2px 100%;\n",
       "  background-repeat: no-repeat;\n",
       "  background-position: center center;\n",
       "}\n",
       "\n",
       "/* Parallel-specific style estimator block */\n",
       "\n",
       "#sk-container-id-1 div.sk-parallel-item::after {\n",
       "  content: \"\";\n",
       "  width: 100%;\n",
       "  border-bottom: 2px solid var(--sklearn-color-text-on-default-background);\n",
       "  flex-grow: 1;\n",
       "}\n",
       "\n",
       "#sk-container-id-1 div.sk-parallel {\n",
       "  display: flex;\n",
       "  align-items: stretch;\n",
       "  justify-content: center;\n",
       "  background-color: var(--sklearn-color-background);\n",
       "  position: relative;\n",
       "}\n",
       "\n",
       "#sk-container-id-1 div.sk-parallel-item {\n",
       "  display: flex;\n",
       "  flex-direction: column;\n",
       "}\n",
       "\n",
       "#sk-container-id-1 div.sk-parallel-item:first-child::after {\n",
       "  align-self: flex-end;\n",
       "  width: 50%;\n",
       "}\n",
       "\n",
       "#sk-container-id-1 div.sk-parallel-item:last-child::after {\n",
       "  align-self: flex-start;\n",
       "  width: 50%;\n",
       "}\n",
       "\n",
       "#sk-container-id-1 div.sk-parallel-item:only-child::after {\n",
       "  width: 0;\n",
       "}\n",
       "\n",
       "/* Serial-specific style estimator block */\n",
       "\n",
       "#sk-container-id-1 div.sk-serial {\n",
       "  display: flex;\n",
       "  flex-direction: column;\n",
       "  align-items: center;\n",
       "  background-color: var(--sklearn-color-background);\n",
       "  padding-right: 1em;\n",
       "  padding-left: 1em;\n",
       "}\n",
       "\n",
       "\n",
       "/* Toggleable style: style used for estimator/Pipeline/ColumnTransformer box that is\n",
       "clickable and can be expanded/collapsed.\n",
       "- Pipeline and ColumnTransformer use this feature and define the default style\n",
       "- Estimators will overwrite some part of the style using the `sk-estimator` class\n",
       "*/\n",
       "\n",
       "/* Pipeline and ColumnTransformer style (default) */\n",
       "\n",
       "#sk-container-id-1 div.sk-toggleable {\n",
       "  /* Default theme specific background. It is overwritten whether we have a\n",
       "  specific estimator or a Pipeline/ColumnTransformer */\n",
       "  background-color: var(--sklearn-color-background);\n",
       "}\n",
       "\n",
       "/* Toggleable label */\n",
       "#sk-container-id-1 label.sk-toggleable__label {\n",
       "  cursor: pointer;\n",
       "  display: flex;\n",
       "  width: 100%;\n",
       "  margin-bottom: 0;\n",
       "  padding: 0.5em;\n",
       "  box-sizing: border-box;\n",
       "  text-align: center;\n",
       "  align-items: start;\n",
       "  justify-content: space-between;\n",
       "  gap: 0.5em;\n",
       "}\n",
       "\n",
       "#sk-container-id-1 label.sk-toggleable__label .caption {\n",
       "  font-size: 0.6rem;\n",
       "  font-weight: lighter;\n",
       "  color: var(--sklearn-color-text-muted);\n",
       "}\n",
       "\n",
       "#sk-container-id-1 label.sk-toggleable__label-arrow:before {\n",
       "  /* Arrow on the left of the label */\n",
       "  content: \"▸\";\n",
       "  float: left;\n",
       "  margin-right: 0.25em;\n",
       "  color: var(--sklearn-color-icon);\n",
       "}\n",
       "\n",
       "#sk-container-id-1 label.sk-toggleable__label-arrow:hover:before {\n",
       "  color: var(--sklearn-color-text);\n",
       "}\n",
       "\n",
       "/* Toggleable content - dropdown */\n",
       "\n",
       "#sk-container-id-1 div.sk-toggleable__content {\n",
       "  max-height: 0;\n",
       "  max-width: 0;\n",
       "  overflow: hidden;\n",
       "  text-align: left;\n",
       "  /* unfitted */\n",
       "  background-color: var(--sklearn-color-unfitted-level-0);\n",
       "}\n",
       "\n",
       "#sk-container-id-1 div.sk-toggleable__content.fitted {\n",
       "  /* fitted */\n",
       "  background-color: var(--sklearn-color-fitted-level-0);\n",
       "}\n",
       "\n",
       "#sk-container-id-1 div.sk-toggleable__content pre {\n",
       "  margin: 0.2em;\n",
       "  border-radius: 0.25em;\n",
       "  color: var(--sklearn-color-text);\n",
       "  /* unfitted */\n",
       "  background-color: var(--sklearn-color-unfitted-level-0);\n",
       "}\n",
       "\n",
       "#sk-container-id-1 div.sk-toggleable__content.fitted pre {\n",
       "  /* unfitted */\n",
       "  background-color: var(--sklearn-color-fitted-level-0);\n",
       "}\n",
       "\n",
       "#sk-container-id-1 input.sk-toggleable__control:checked~div.sk-toggleable__content {\n",
       "  /* Expand drop-down */\n",
       "  max-height: 200px;\n",
       "  max-width: 100%;\n",
       "  overflow: auto;\n",
       "}\n",
       "\n",
       "#sk-container-id-1 input.sk-toggleable__control:checked~label.sk-toggleable__label-arrow:before {\n",
       "  content: \"▾\";\n",
       "}\n",
       "\n",
       "/* Pipeline/ColumnTransformer-specific style */\n",
       "\n",
       "#sk-container-id-1 div.sk-label input.sk-toggleable__control:checked~label.sk-toggleable__label {\n",
       "  color: var(--sklearn-color-text);\n",
       "  background-color: var(--sklearn-color-unfitted-level-2);\n",
       "}\n",
       "\n",
       "#sk-container-id-1 div.sk-label.fitted input.sk-toggleable__control:checked~label.sk-toggleable__label {\n",
       "  background-color: var(--sklearn-color-fitted-level-2);\n",
       "}\n",
       "\n",
       "/* Estimator-specific style */\n",
       "\n",
       "/* Colorize estimator box */\n",
       "#sk-container-id-1 div.sk-estimator input.sk-toggleable__control:checked~label.sk-toggleable__label {\n",
       "  /* unfitted */\n",
       "  background-color: var(--sklearn-color-unfitted-level-2);\n",
       "}\n",
       "\n",
       "#sk-container-id-1 div.sk-estimator.fitted input.sk-toggleable__control:checked~label.sk-toggleable__label {\n",
       "  /* fitted */\n",
       "  background-color: var(--sklearn-color-fitted-level-2);\n",
       "}\n",
       "\n",
       "#sk-container-id-1 div.sk-label label.sk-toggleable__label,\n",
       "#sk-container-id-1 div.sk-label label {\n",
       "  /* The background is the default theme color */\n",
       "  color: var(--sklearn-color-text-on-default-background);\n",
       "}\n",
       "\n",
       "/* On hover, darken the color of the background */\n",
       "#sk-container-id-1 div.sk-label:hover label.sk-toggleable__label {\n",
       "  color: var(--sklearn-color-text);\n",
       "  background-color: var(--sklearn-color-unfitted-level-2);\n",
       "}\n",
       "\n",
       "/* Label box, darken color on hover, fitted */\n",
       "#sk-container-id-1 div.sk-label.fitted:hover label.sk-toggleable__label.fitted {\n",
       "  color: var(--sklearn-color-text);\n",
       "  background-color: var(--sklearn-color-fitted-level-2);\n",
       "}\n",
       "\n",
       "/* Estimator label */\n",
       "\n",
       "#sk-container-id-1 div.sk-label label {\n",
       "  font-family: monospace;\n",
       "  font-weight: bold;\n",
       "  display: inline-block;\n",
       "  line-height: 1.2em;\n",
       "}\n",
       "\n",
       "#sk-container-id-1 div.sk-label-container {\n",
       "  text-align: center;\n",
       "}\n",
       "\n",
       "/* Estimator-specific */\n",
       "#sk-container-id-1 div.sk-estimator {\n",
       "  font-family: monospace;\n",
       "  border: 1px dotted var(--sklearn-color-border-box);\n",
       "  border-radius: 0.25em;\n",
       "  box-sizing: border-box;\n",
       "  margin-bottom: 0.5em;\n",
       "  /* unfitted */\n",
       "  background-color: var(--sklearn-color-unfitted-level-0);\n",
       "}\n",
       "\n",
       "#sk-container-id-1 div.sk-estimator.fitted {\n",
       "  /* fitted */\n",
       "  background-color: var(--sklearn-color-fitted-level-0);\n",
       "}\n",
       "\n",
       "/* on hover */\n",
       "#sk-container-id-1 div.sk-estimator:hover {\n",
       "  /* unfitted */\n",
       "  background-color: var(--sklearn-color-unfitted-level-2);\n",
       "}\n",
       "\n",
       "#sk-container-id-1 div.sk-estimator.fitted:hover {\n",
       "  /* fitted */\n",
       "  background-color: var(--sklearn-color-fitted-level-2);\n",
       "}\n",
       "\n",
       "/* Specification for estimator info (e.g. \"i\" and \"?\") */\n",
       "\n",
       "/* Common style for \"i\" and \"?\" */\n",
       "\n",
       ".sk-estimator-doc-link,\n",
       "a:link.sk-estimator-doc-link,\n",
       "a:visited.sk-estimator-doc-link {\n",
       "  float: right;\n",
       "  font-size: smaller;\n",
       "  line-height: 1em;\n",
       "  font-family: monospace;\n",
       "  background-color: var(--sklearn-color-background);\n",
       "  border-radius: 1em;\n",
       "  height: 1em;\n",
       "  width: 1em;\n",
       "  text-decoration: none !important;\n",
       "  margin-left: 0.5em;\n",
       "  text-align: center;\n",
       "  /* unfitted */\n",
       "  border: var(--sklearn-color-unfitted-level-1) 1pt solid;\n",
       "  color: var(--sklearn-color-unfitted-level-1);\n",
       "}\n",
       "\n",
       ".sk-estimator-doc-link.fitted,\n",
       "a:link.sk-estimator-doc-link.fitted,\n",
       "a:visited.sk-estimator-doc-link.fitted {\n",
       "  /* fitted */\n",
       "  border: var(--sklearn-color-fitted-level-1) 1pt solid;\n",
       "  color: var(--sklearn-color-fitted-level-1);\n",
       "}\n",
       "\n",
       "/* On hover */\n",
       "div.sk-estimator:hover .sk-estimator-doc-link:hover,\n",
       ".sk-estimator-doc-link:hover,\n",
       "div.sk-label-container:hover .sk-estimator-doc-link:hover,\n",
       ".sk-estimator-doc-link:hover {\n",
       "  /* unfitted */\n",
       "  background-color: var(--sklearn-color-unfitted-level-3);\n",
       "  color: var(--sklearn-color-background);\n",
       "  text-decoration: none;\n",
       "}\n",
       "\n",
       "div.sk-estimator.fitted:hover .sk-estimator-doc-link.fitted:hover,\n",
       ".sk-estimator-doc-link.fitted:hover,\n",
       "div.sk-label-container:hover .sk-estimator-doc-link.fitted:hover,\n",
       ".sk-estimator-doc-link.fitted:hover {\n",
       "  /* fitted */\n",
       "  background-color: var(--sklearn-color-fitted-level-3);\n",
       "  color: var(--sklearn-color-background);\n",
       "  text-decoration: none;\n",
       "}\n",
       "\n",
       "/* Span, style for the box shown on hovering the info icon */\n",
       ".sk-estimator-doc-link span {\n",
       "  display: none;\n",
       "  z-index: 9999;\n",
       "  position: relative;\n",
       "  font-weight: normal;\n",
       "  right: .2ex;\n",
       "  padding: .5ex;\n",
       "  margin: .5ex;\n",
       "  width: min-content;\n",
       "  min-width: 20ex;\n",
       "  max-width: 50ex;\n",
       "  color: var(--sklearn-color-text);\n",
       "  box-shadow: 2pt 2pt 4pt #999;\n",
       "  /* unfitted */\n",
       "  background: var(--sklearn-color-unfitted-level-0);\n",
       "  border: .5pt solid var(--sklearn-color-unfitted-level-3);\n",
       "}\n",
       "\n",
       ".sk-estimator-doc-link.fitted span {\n",
       "  /* fitted */\n",
       "  background: var(--sklearn-color-fitted-level-0);\n",
       "  border: var(--sklearn-color-fitted-level-3);\n",
       "}\n",
       "\n",
       ".sk-estimator-doc-link:hover span {\n",
       "  display: block;\n",
       "}\n",
       "\n",
       "/* \"?\"-specific style due to the `<a>` HTML tag */\n",
       "\n",
       "#sk-container-id-1 a.estimator_doc_link {\n",
       "  float: right;\n",
       "  font-size: 1rem;\n",
       "  line-height: 1em;\n",
       "  font-family: monospace;\n",
       "  background-color: var(--sklearn-color-background);\n",
       "  border-radius: 1rem;\n",
       "  height: 1rem;\n",
       "  width: 1rem;\n",
       "  text-decoration: none;\n",
       "  /* unfitted */\n",
       "  color: var(--sklearn-color-unfitted-level-1);\n",
       "  border: var(--sklearn-color-unfitted-level-1) 1pt solid;\n",
       "}\n",
       "\n",
       "#sk-container-id-1 a.estimator_doc_link.fitted {\n",
       "  /* fitted */\n",
       "  border: var(--sklearn-color-fitted-level-1) 1pt solid;\n",
       "  color: var(--sklearn-color-fitted-level-1);\n",
       "}\n",
       "\n",
       "/* On hover */\n",
       "#sk-container-id-1 a.estimator_doc_link:hover {\n",
       "  /* unfitted */\n",
       "  background-color: var(--sklearn-color-unfitted-level-3);\n",
       "  color: var(--sklearn-color-background);\n",
       "  text-decoration: none;\n",
       "}\n",
       "\n",
       "#sk-container-id-1 a.estimator_doc_link.fitted:hover {\n",
       "  /* fitted */\n",
       "  background-color: var(--sklearn-color-fitted-level-3);\n",
       "}\n",
       "</style><div id=\"sk-container-id-1\" class=\"sk-top-container\"><div class=\"sk-text-repr-fallback\"><pre>LinearRegression()</pre><b>In a Jupyter environment, please rerun this cell to show the HTML representation or trust the notebook. <br />On GitHub, the HTML representation is unable to render, please try loading this page with nbviewer.org.</b></div><div class=\"sk-container\" hidden><div class=\"sk-item\"><div class=\"sk-estimator fitted sk-toggleable\"><input class=\"sk-toggleable__control sk-hidden--visually\" id=\"sk-estimator-id-1\" type=\"checkbox\" checked><label for=\"sk-estimator-id-1\" class=\"sk-toggleable__label fitted sk-toggleable__label-arrow\"><div><div>LinearRegression</div></div><div><a class=\"sk-estimator-doc-link fitted\" rel=\"noreferrer\" target=\"_blank\" href=\"https://scikit-learn.org/1.6/modules/generated/sklearn.linear_model.LinearRegression.html\">?<span>Documentation for LinearRegression</span></a><span class=\"sk-estimator-doc-link fitted\">i<span>Fitted</span></span></div></label><div class=\"sk-toggleable__content fitted\"><pre>LinearRegression()</pre></div> </div></div></div></div>"
      ],
      "text/plain": [
       "LinearRegression()"
      ]
     },
     "execution_count": 49,
     "metadata": {},
     "output_type": "execute_result"
    }
   ],
   "source": [
    "model=LinearRegression()\n",
    "model.fit(X_train,y_train)"
   ]
  },
  {
   "cell_type": "markdown",
   "id": "7e07af60",
   "metadata": {},
   "source": [
    "***Make Predictions***"
   ]
  },
  {
   "cell_type": "code",
   "execution_count": 50,
   "id": "98015d07",
   "metadata": {},
   "outputs": [],
   "source": [
    "y_pred=model.predict(X_test)"
   ]
  },
  {
   "cell_type": "markdown",
   "id": "d37eab3e",
   "metadata": {},
   "source": [
    "***Evaluate the model***"
   ]
  },
  {
   "cell_type": "code",
   "execution_count": 51,
   "id": "1b1cf5b3",
   "metadata": {},
   "outputs": [
    {
     "name": "stdout",
     "output_type": "stream",
     "text": [
      "Mean Squared Error: 200.9258658977261\n",
      "R² Score: -0.005296128537602973\n"
     ]
    }
   ],
   "source": [
    "mse=mean_squared_error(y_test,y_pred)\n",
    "r2=r2_score(y_test,y_pred)\n",
    "\n",
    "print(f\"Mean Squared Error: {mse}\")\n",
    "print(f\"R² Score: {r2}\")"
   ]
  },
  {
   "cell_type": "markdown",
   "id": "6d696ee9",
   "metadata": {},
   "source": [
    "***Plot Regression Line***"
   ]
  },
  {
   "cell_type": "code",
   "execution_count": 52,
   "id": "3fd07ed2",
   "metadata": {},
   "outputs": [
    {
     "data": {
      "image/png": "[encoded data removed]",
      "text/plain": [
       "<Figure size 640x480 with 1 Axes>"
      ]
     },
     "metadata": {},
     "output_type": "display_data"
    }
   ],
   "source": [
    "plt.scatter(X_test,y_test,color='blue',label='Actual')\n",
    "plt.plot(X_test,y_pred,color='red',linewidth=2,label='Predicted')\n",
    "plt.xlabel('Rating')\n",
    "plt.ylabel('Price')\n",
    "plt.title('Linear Regression - Rating vs Price')\n",
    "plt.legend()\n",
    "plt.show()"
   ]
  }
 ],
 "metadata": {
  "kernelspec": {
   "display_name": "Python 3",
   "language": "python",
   "name": "python3"
  },
  "language_info": {
   "codemirror_mode": {
    "name": "ipython",
    "version": 3
   },
   "file_extension": ".py",
   "mimetype": "text/x-python",
   "name": "python",
   "nbconvert_exporter": "python",
   "pygments_lexer": "ipython3",
   "version": "3.11.9"
  }
 },
 "nbformat": 4,
 "nbformat_minor": 5
}
